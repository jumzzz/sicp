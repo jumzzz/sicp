{
 "cells": [
  {
   "cell_type": "code",
   "execution_count": 1,
   "metadata": {},
   "outputs": [],
   "source": [
    "import numpy as np\n",
    "import matplotlib.pyplot as plt"
   ]
  },
  {
   "cell_type": "code",
   "execution_count": null,
   "metadata": {},
   "outputs": [],
   "source": [
    "def compute_phi(n):\n",
    "    phi = ((1 + 5 ** 0.5) / 2) ** n\n",
    "    return phi\n",
    "\n",
    "def compute_psi(n):\n",
    "    psi = ((1 - 5 ** 0.5) / 2) ** n\n",
    "    return psi    \n",
    "\n",
    "def fib_approx(n):\n",
    "    return (compute_phi(n) - compute_psi(n)) / (5 ** 0.5)\n",
    "\n",
    "\n",
    "\n",
    "# def fib_exact(n):\n",
    "    # total_sum = 0\n",
    "    # n_0 = 0\n",
    "    # n_1 = 1\n",
    "\n",
    "    # if n == 0:\n",
    "    #     return n_0\n",
    "    \n",
    "    # if n == 1:\n",
    "    #     return n_1\n",
    "    \n",
    "    # for i in range(2, )\n",
    "\n",
    "     \n",
    "\n",
    "\n",
    "\n",
    "def fib_exact(n):\n",
    "    if n == 0:\n",
    "        return 0\n",
    "    if n == 1:\n",
    "        return 1\n",
    "    \n",
    "    return fib_exact(n - 1) + fib_exact(n - 2)\n",
    "\n",
    "\n",
    "\n",
    "    "
   ]
  }
 ],
 "metadata": {
  "kernelspec": {
   "display_name": "ml",
   "language": "python",
   "name": "python3"
  },
  "language_info": {
   "codemirror_mode": {
    "name": "ipython",
    "version": 3
   },
   "file_extension": ".py",
   "mimetype": "text/x-python",
   "name": "python",
   "nbconvert_exporter": "python",
   "pygments_lexer": "ipython3",
   "version": "3.11.7"
  }
 },
 "nbformat": 4,
 "nbformat_minor": 2
}
