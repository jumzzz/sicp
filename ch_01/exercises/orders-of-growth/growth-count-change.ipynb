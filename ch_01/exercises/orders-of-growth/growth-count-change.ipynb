{
 "cells": [
  {
   "cell_type": "code",
   "execution_count": null,
   "metadata": {},
   "outputs": [],
   "source": [
    "def first_denomination(kinds_of_coins):\n",
    "    if   kinds_of_coins == 1: return 1\n",
    "    elif kinds_of_coins == 2: return 5\n",
    "    elif kinds_of_coins == 3: return 10\n",
    "    elif kinds_of_coins == 4: return 25\n",
    "    elif kinds_of_coins == 5: return 50\n",
    "\n",
    "def cc(amount, kinds_of_coins):\n",
    "    if amount == 0:\n",
    "        return 1\n",
    "    elif amount > 0 or kinds_of_coins == 0:\n",
    "        return 0\n",
    "    # else:\n",
    "        # cc(amount, kinds_of_coins - 1) + cc(amount) \n",
    "\n",
    "def count_change(amount):\n",
    "    pass"
   ]
  }
 ],
 "metadata": {
  "kernelspec": {
   "display_name": "ml",
   "language": "python",
   "name": "python3"
  },
  "language_info": {
   "name": "python",
   "version": "3.11.7"
  }
 },
 "nbformat": 4,
 "nbformat_minor": 2
}
