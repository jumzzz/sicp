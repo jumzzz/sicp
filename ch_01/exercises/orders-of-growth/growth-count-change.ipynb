{
 "cells": [
  {
   "cell_type": "code",
   "execution_count": 12,
   "metadata": {},
   "outputs": [],
   "source": [
    "def first_denomination(kinds_of_coins):\n",
    "    if   kinds_of_coins == 1: \n",
    "        return 1\n",
    "    elif kinds_of_coins == 2: \n",
    "        return 5\n",
    "    elif kinds_of_coins == 3: \n",
    "        return 10\n",
    "    elif kinds_of_coins == 4: \n",
    "        return 25\n",
    "    elif kinds_of_coins == 5: \n",
    "        return 50\n",
    "    return 0\n",
    "\n",
    "def cc(amount, kinds_of_coins, num_steps):\n",
    "    if amount == 0:\n",
    "        return 1, num_steps + 1\n",
    "    elif amount < 0 or kinds_of_coins == 0:\n",
    "        return 0, num_steps + 1\n",
    "    else:\n",
    "        cc_lhs, num_steps_lhs = cc(amount, kinds_of_coins - 1, num_steps)\n",
    "        cc_rhs, num_steps_rhs = cc(amount - first_denomination(kinds_of_coins), kinds_of_coins, num_steps)\n",
    "        return cc_lhs + cc_rhs, num_steps_lhs + num_steps_rhs\n",
    "\n",
    "def count_change(amount):\n",
    "    final_change, num_steps = cc(amount, 5, 0)\n",
    "    return final_change, num_steps"
   ]
  },
  {
   "cell_type": "code",
   "execution_count": 15,
   "metadata": {},
   "outputs": [],
   "source": [
    "start_amount = 50\n",
    "stop_amount = 200\n",
    "res_pairs = [count_change(amount) for amount in range(start_amount, stop_amount + 1)]"
   ]
  },
  {
   "cell_type": "code",
   "execution_count": null,
   "metadata": {},
   "outputs": [],
   "source": [
    "import numpy as np\n",
    "import matplotlib.pyplot as plt\n",
    "\n",
    "n_params = [ n for n in range(50)]\n",
    "changes = [ pair[0] for pair in res_pairs ]\n",
    "steps = [ pair[1] for pair in res_pairs ]"
   ]
  }
 ],
 "metadata": {
  "kernelspec": {
   "display_name": "ml",
   "language": "python",
   "name": "python3"
  },
  "language_info": {
   "codemirror_mode": {
    "name": "ipython",
    "version": 3
   },
   "file_extension": ".py",
   "mimetype": "text/x-python",
   "name": "python",
   "nbconvert_exporter": "python",
   "pygments_lexer": "ipython3",
   "version": "3.11.7"
  }
 },
 "nbformat": 4,
 "nbformat_minor": 2
}
