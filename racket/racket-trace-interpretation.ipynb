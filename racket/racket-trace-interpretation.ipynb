{
 "cells": [
  {
   "cell_type": "markdown",
   "id": "af66f755-477d-455f-990d-05d8cd927f1f",
   "metadata": {},
   "source": [
    "## Understanding `trace` Outputs in Racket\n",
    "\n",
    "The `trace` function in Racket provides a detailed view of function calls and returns, which is especially useful for debugging recursive functions. Here's how to interpret the output:\n",
    "\n",
    "---\n",
    "\n",
    "### Symbols Explanation\n",
    "\n",
    "1. **`>`**: Indicates entering a function.\n",
    "   - Each additional `>` shows the depth of recursion or nested calls.\n",
    "   - Example:\n",
    "     ```\n",
    "     > (fib 5)\n",
    "     > (fib 4)\n",
    "     ```\n",
    "     This means `fib(5)` called `fib(4)`.\n",
    "\n",
    "2. **`<`**: Indicates returning from a function.\n",
    "   - Each additional `<` matches the depth of the corresponding call.\n",
    "   - Example:\n",
    "     ```\n",
    "     < < 1\n",
    "     ```\n",
    "     This means a deeply nested call (at depth 2) returned the value `1`.\n",
    "\n",
    "---\n",
    "\n",
    "### Annotated Example Trace Output\n",
    "\n",
    "#### Code:\n",
    "```racket\n",
    "(require racket/trace)\n",
    "\n",
    "(define (fib n)\n",
    "  (cond\n",
    "    [(= n 0) 0]\n",
    "    [(= n 1) 1]\n",
    "    [else (+ (fib (- n 1)) (fib (- n 2)))]))\n",
    "\n",
    "(trace fib)\n",
    "(fib 5)\n"
   ]
  },
  {
   "cell_type": "code",
   "execution_count": 7,
   "id": "2f9c8dba-aec7-42fc-bf21-588c95663e6a",
   "metadata": {
    "vscode": {
     "languageId": "racket"
    }
   },
   "outputs": [
    {
     "name": "stdout",
     "output_type": "stream",
     "text": [
      ">(fib 5)\n",
      "> (fib 4)\n",
      "> >(fib 3)\n",
      "> > (fib 2)\n",
      "> > >(fib 1)\n",
      "< < <1\n",
      "> > >(fib 0)\n",
      "< < <0\n",
      "< < 1\n",
      "> > (fib 1)\n",
      "< < 1\n",
      "< <2\n",
      "> >(fib 2)\n",
      "> > (fib 1)\n",
      "< < 1\n",
      "> > (fib 0)\n",
      "< < 0\n",
      "< <1\n",
      "< 3\n",
      "> (fib 3)\n",
      "> >(fib 2)\n",
      "> > (fib 1)\n",
      "< < 1\n",
      "> > (fib 0)\n",
      "< < 0\n",
      "< <1\n",
      "> >(fib 1)\n",
      "< <1\n",
      "< 2\n",
      "<5\n"
     ]
    },
    {
     "data": {
      "text/html": [
       "<code>5</code>"
      ],
      "text/plain": [
       "5"
      ]
     },
     "execution_count": 7,
     "metadata": {},
     "output_type": "execute_result"
    }
   ],
   "source": [
    "(require racket/trace)\n",
    "\n",
    "(define (fib n)\n",
    "  (cond\n",
    "    [(= n 0) 0]\n",
    "    [(= n 1) 1]\n",
    "    [else (+ (fib (- n 1)) (fib (- n 2)))]))\n",
    "\n",
    "(trace fib)\n",
    "(fib 5)"
   ]
  },
  {
   "cell_type": "markdown",
   "id": "6cffb085-1a64-4afb-b68c-93ee2ea078d3",
   "metadata": {},
   "source": [
    "#### Trace Output Explanation\n",
    "\n",
    "```\n",
    ">(fib 5)                ; Enter fib(5)\n",
    "> (fib 4)               ; Enter fib(4)\n",
    "> >(fib 3)              ; Enter fib(3) (nested inside fib(4))\n",
    "> > (fib 2)             ; Enter fib(2) (nested inside fib(3))\n",
    "> > >(fib 1)            ; Enter fib(1) (nested inside fib(2))\n",
    "< < <1                  ; Exit fib(1), returning 1 (nested inside fib(2))\n",
    "> > >(fib 0)            ; Enter fib(0) (nested inside fib(2))\n",
    "< < <0                  ; Exit fib(0), returning 0 (nested inside fib(2))\n",
    "< < 1                   ; Exit fib(2), returning 1\n",
    "> > (fib 1)             ; Enter fib(1) (nested inside fib(3))\n",
    "< < 1                   ; Exit fib(1), returning 1\n",
    "< <2                    ; Exit fib(3), returning 2\n",
    "> >(fib 2)              ; Enter fib(2) (nested inside fib(4))\n",
    "> > (fib 1)             ; Enter fib(1) (nested inside fib(2))\n",
    "< < 1                   ; Exit fib(1), returning 1\n",
    "> > (fib 0)             ; Enter fib(0) (nested inside fib(2))\n",
    "< < 0                   ; Exit fib(0), returning 0\n",
    "< <1                    ; Exit fib(2), returning 1\n",
    "< 3                     ; Exit fib(4), returning 3\n",
    "> (fib 3)               ; Enter fib(3) (nested inside fib(5))\n",
    "> >(fib 2)              ; Enter fib(2) (nested inside fib(3))\n",
    "> > (fib 1)             ; Enter fib(1) (nested inside fib(2))\n",
    "< < 1                   ; Exit fib(1), returning 1\n",
    "> > (fib 0)             ; Enter fib(0) (nested inside fib(2))\n",
    "< < 0                   ; Exit fib(0), returning 0\n",
    "< <1                    ; Exit fib(2), returning 1\n",
    "> >(fib 1)              ; Enter fib(1) (nested inside fib(3))\n",
    "< <1                    ; Exit fib(1), returning 1\n",
    "< 2                     ; Exit fib(3), returning 2\n",
    "\n",
    "```"
   ]
  },
  {
   "cell_type": "code",
   "execution_count": 1,
   "id": "6ab5a209",
   "metadata": {
    "vscode": {
     "languageId": "racket"
    }
   },
   "outputs": [
    {
     "data": {
      "text/html": [
       "<code>'(4 5)</code>"
      ],
      "text/plain": [
       "'(4 5)"
      ]
     },
     "execution_count": 1,
     "metadata": {},
     "output_type": "execute_result"
    }
   ],
   "source": [
    "(require racket/base)\n",
    "\n",
    "(define (square x) (* x x))\n",
    "(define nums '(1 2 3 4 5))\n",
    "\n",
    "(map square nums) ; Returns '(1 4 9 16 25)\n",
    "\n",
    "(filter (lambda (x) (> x 3)) nums) ; Returns '(4 5)\n"
   ]
  },
  {
   "cell_type": "code",
   "execution_count": 2,
   "id": "52a81afb",
   "metadata": {
    "vscode": {
     "languageId": "plaintext"
    }
   },
   "outputs": [
    {
     "data": {
      "text/html": [
       "<code>'(4 5)</code>"
      ],
      "text/plain": [
       "'(4 5)"
      ]
     },
     "execution_count": 2,
     "metadata": {},
     "output_type": "execute_result"
    }
   ],
   "source": [
    "(require racket/base)\n",
    "\n",
    "(define (square x) (* x x))\n",
    "(define nums '(1 2 3 4 5))\n",
    "\n",
    "(map square nums) ; Returns '(1 4 9 16 25)\n",
    "\n",
    "(filter (lambda (x) (> x 3)) nums) ; Returns '(4 5)\n"
   ]
  },
  {
   "cell_type": "code",
   "execution_count": 8,
   "id": "0ad4fc0c",
   "metadata": {
    "vscode": {
     "languageId": "plaintext"
    }
   },
   "outputs": [
    {
     "name": "stdout",
     "output_type": "stream",
     "text": [
      ">(fib 6)\n",
      "> (fib 5)\n",
      "> >(fib 4)\n",
      "> > (fib 3)\n",
      "> > >(fib 2)\n",
      "> > > (fib 1)\n",
      "< < < 1\n",
      "> > > (fib 0)\n",
      "< < < 0\n",
      "< < <1\n",
      "> > >(fib 1)\n",
      "< < <1\n",
      "< < 2\n",
      "> > (fib 2)\n",
      "> > >(fib 1)\n",
      "< < <1\n",
      "> > >(fib 0)\n",
      "< < <0\n",
      "< < 1\n",
      "< <3\n",
      "> >(fib 3)\n",
      "> > (fib 2)\n",
      "> > >(fib 1)\n",
      "< < <1\n",
      "> > >(fib 0)\n",
      "< < <0\n",
      "< < 1\n",
      "> > (fib 1)\n",
      "< < 1\n",
      "< <2\n",
      "< 5\n",
      "> (fib 4)\n",
      "> >(fib 3)\n",
      "> > (fib 2)\n",
      "> > >(fib 1)\n",
      "< < <1\n",
      "> > >(fib 0)\n",
      "< < <0\n",
      "< < 1\n",
      "> > (fib 1)\n",
      "< < 1\n",
      "< <2\n",
      "> >(fib 2)\n",
      "> > (fib 1)\n",
      "< < 1\n",
      "> > (fib 0)\n",
      "< < 0\n",
      "< <1\n",
      "< 3\n",
      "<8\n"
     ]
    },
    {
     "data": {
      "text/html": [
       "<code>8</code>"
      ],
      "text/plain": [
       "8"
      ]
     },
     "execution_count": 8,
     "metadata": {},
     "output_type": "execute_result"
    }
   ],
   "source": [
    "(require racket/trace)\n",
    "\n",
    "(define (fib n)\n",
    "  (cond\n",
    "    [(= n 0) 0]\n",
    "    [(= n 1) 1]\n",
    "    [else (+ (fib (- n 1)) (fib (- n 2)))]))\n",
    "\n",
    "(trace fib)\n",
    "(fib 6)"
   ]
  },
  {
   "cell_type": "code",
   "execution_count": null,
   "id": "f27a5889",
   "metadata": {
    "vscode": {
     "languageId": "plaintext"
    }
   },
   "outputs": [],
   "source": []
  }
 ],
 "metadata": {
  "kernelspec": {
   "display_name": "Racket",
   "language": "racket",
   "name": "racket"
  },
  "language_info": {
   "codemirror_mode": "scheme",
   "file_extension": ".rkt",
   "mimetype": "text/x-racket",
   "name": "Racket",
   "pygments_lexer": "racket",
   "version": "8.15"
  }
 },
 "nbformat": 4,
 "nbformat_minor": 5
}
