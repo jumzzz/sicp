{
 "cells": [
  {
   "cell_type": "markdown",
   "id": "dd9c562c-e406-40f6-bffd-de1e9af190bb",
   "metadata": {},
   "source": [
    "#### Comparing Mathematical Functions and Procedures\n",
    "- In mathematics, we are usually concerned with declarative (what is) descriptions where as in Computer Science, we are usually concerned with imperative (how to) descriptions.\n",
    "\n",
    "#### Comment:\n",
    "- This is an important distinction, because this implies that it's not necessarily important to know the **what is** in solving Computer Science problem. But knowing both helps and can be advantageous, it is just not mandatory.\n",
    "\n",
    "#### Additional Comment:\n",
    "- The correctness of a program meanwhile is an **declarative statement** since it also concerns with proofs that your program is indeed correct.\n"
   ]
  },
  {
   "cell_type": "markdown",
   "id": "a46fed95-9685-4caa-9e31-bdbd9c0f04b8",
   "metadata": {},
   "source": [
    "#### Sample Code\n",
    "- How to declare local variable inside a procedure"
   ]
  },
  {
   "cell_type": "code",
   "execution_count": 2,
   "id": "d1c6728b-4ef2-4aef-b0ee-8102e5ddeef4",
   "metadata": {
    "vscode": {
     "languageId": "racket"
    }
   },
   "outputs": [
    {
     "data": {
      "text/html": [
       "<code>6</code>"
      ],
      "text/plain": [
       "6"
      ]
     },
     "execution_count": 2,
     "metadata": {},
     "output_type": "execute_result"
    }
   ],
   "source": [
    "(define (some-func x) (let ((y 3)) (+ x y)))\n",
    "(some-func 3)"
   ]
  },
  {
   "cell_type": "markdown",
   "id": "3592b60e-bff3-4bc5-ac13-1a79e8b9082c",
   "metadata": {},
   "source": [
    "## 1.1.7 Example: Square Roots by Newton's Method\n",
    "\n",
    "Procedures, as introduced above, are much like ordinary mathematical functions. They specify a value that is determined by one or more parameters. But there is an important difference between mathematical functions and computer procedures. Procedures must be effective.\n",
    "\n",
    "As a case in point, consider the problem of computing square roots. We can define the square-root function as\n",
    "\n",
    "$$\\sqrt{x} = \\text{ the } y \\text{ such that } y \\geq 0 \\text{ and } y^2 = x.$$\n",
    "\n",
    "This describes a perfectly legitimate mathematical function. We could use it to recognize whether one number is the square root of another, or to derive facts about square roots in general. On the other hand, the definition does not describe a procedure. Indeed, it tells us almost nothing about how to actually find the square root of a given number. It will not help matters to rephrase this definition in pseudo-Lisp:\n",
    "\n",
    "```lisp\n",
    "(define (sqrt x)\n",
    "  (the y (and (>= y 0)\n",
    "              (= (square y) x))))\n",
    "```\n",
    "This only begs the question - since in Mathematics, we are usually concerned with declarative (what is) descriptions where as in Computer Science, we are usually concerned with imperative (how to) descriptions"
   ]
  },
  {
   "cell_type": "markdown",
   "id": "63a98683-7f4c-4629-b5a5-917eba8859e6",
   "metadata": {},
   "source": [
    "#### Computing the Square Roots: Bisection Method\n",
    "\n",
    "How does one compute square roots? The most common way is to use Newton's method of successive approximations, which says that whenever we have a guess $y$ for the value of the square root of a number $x$, we can perform a simple manipulation to get a better guess (one closer to the actual square root) by averaging $y$ with $x/y$.$^{21}$ For example, we can compute the square root of 2 as follows. Suppose our initial guess is 1:\n",
    "\n",
    "| Guess   | Quotient               | Average                            |\n",
    "|---------|------------------------|-----------------------------------|\n",
    "| 1       | $(2/1) = 2$           | $((2 + 1)/2) = 1.5$              |\n",
    "| 1.5     | $(2/1.5) = 1.3333$    | $((1.3333 + 1.5)/2) = 1.4167$   |\n",
    "| 1.4167  | $(2/1.4167) = 1.4118$ | $((1.4167 + 1.4118)/2) = 1.4142$|\n",
    "| 1.4142  | ...                   | ...                               |"
   ]
  },
  {
   "cell_type": "markdown",
   "id": "13c97cd9-0ddf-4923-b25f-d80fb148a8ac",
   "metadata": {},
   "source": [
    "### Implementation of Bisection Method"
   ]
  },
  {
   "cell_type": "code",
   "execution_count": 23,
   "id": "8bf6ffdc-e2a6-434e-b92a-154d2e807534",
   "metadata": {
    "vscode": {
     "languageId": "racket"
    }
   },
   "outputs": [],
   "source": [
    "(define (average x y) (/ (+ x y) 2.0))\n",
    "(define (improve guess x) ( average guess (/ x guess)))\n",
    "(define (abs-diff x y) (abs (- x y)))\n",
    "(define (square x) (* x x))\n",
    "(define (good-enough? guess x) (< (abs-diff (square guess) x) 0.001))\n",
    "\n",
    "(define (sqrt-iter guess x)\n",
    "  (if (good-enough? guess x) guess\n",
    "      (sqrt-iter (improve guess x) x )))\n",
    "\n",
    "(define (half x) (/ x 2.0))\n",
    "(define (sqrt x) (sqrt-iter (half x) x))"
   ]
  },
  {
   "cell_type": "code",
   "execution_count": 24,
   "id": "a7383ef3-0b9a-4250-8256-eb2671f416d1",
   "metadata": {
    "vscode": {
     "languageId": "racket"
    }
   },
   "outputs": [
    {
     "name": "stdout",
     "output_type": "stream",
     "text": [
      ">(sqrt-iter 50.0 100)\n",
      ">(sqrt-iter 26.0 100)\n",
      ">(sqrt-iter 14.923076923076923 100)\n",
      ">(sqrt-iter 10.812053925455988 100)\n",
      ">(sqrt-iter 10.030495203889796 100)\n",
      ">(sqrt-iter 10.000046356507898 100)\n",
      "<10.000046356507898\n"
     ]
    },
    {
     "data": {
      "text/html": [
       "<code>10.000046356507898</code>"
      ],
      "text/plain": [
       "10.000046356507898"
      ]
     },
     "execution_count": 24,
     "metadata": {},
     "output_type": "execute_result"
    }
   ],
   "source": [
    "(require racket/trace)\n",
    "(trace sqrt-iter)\n",
    "(sqrt 100)"
   ]
  },
  {
   "cell_type": "code",
   "execution_count": 17,
   "id": "5f0d4b99-d226-4d34-b89e-293914b9ec61",
   "metadata": {
    "scrolled": true,
    "vscode": {
     "languageId": "racket"
    }
   },
   "outputs": [
    {
     "name": "stdout",
     "output_type": "stream",
     "text": [
      "(sqrt 9)\n",
      ">(square 4.5)\n",
      "<20.25\n",
      ">(abs-diff 20.25 9)\n",
      "<11.25\n",
      ">(square 3.25)\n",
      "<10.5625\n",
      ">(abs-diff 10.5625 9)\n",
      "<1.5625\n",
      ">(square 3.0096153846153846)\n",
      "<9.05778476331361\n",
      ">(abs-diff 9.05778476331361 9)\n",
      "<0.05778476331360949\n",
      ">(square 3.000015360039322)\n",
      "<9.000092160471862\n",
      ">(abs-diff 9.000092160471862 9)\n",
      "<9.216047186200171e-5\n"
     ]
    },
    {
     "data": {
      "text/html": [
       "<code>3.000015360039322</code>"
      ],
      "text/plain": [
       "3.000015360039322"
      ]
     },
     "execution_count": 17,
     "metadata": {},
     "output_type": "execute_result"
    }
   ],
   "source": [
    "(define x1 9)\n",
    "(printf \"(sqrt ~a)\\n\" x1)\n",
    "( sqrt x1 )\n"
   ]
  },
  {
   "cell_type": "code",
   "execution_count": null,
   "id": "05023395-f1bc-41bf-9ed4-21e507389ae7",
   "metadata": {
    "scrolled": true,
    "vscode": {
     "languageId": "racket"
    }
   },
   "outputs": [],
   "source": [
    "(require racket/trace)\n",
    "(trace abs-di\n",
    "(sqrt 10)\n"
   ]
  },
  {
   "cell_type": "markdown",
   "id": "e11b6805-c31b-43e6-9cc3-25a4364b814e",
   "metadata": {},
   "source": [
    "#### Exercise 1.6:\n",
    "\n",
    "Alyssa P. Hacker doesn’t see why `if` needs to be provided as a special form. “Why can’t I just define it as an ordinary procedure in terms of `cond`?” she asks. Alyssa’s friend Eva Lu Ator claims this can indeed be done, and she defines a new version of `if`:\n",
    "\n",
    "```scheme\n",
    "(define (new-if predicate then-clause else-clause)\n",
    "  (cond (predicate then-clause)\n",
    "        (else else-clause)))\n",
    "```\n",
    "\n",
    "Eva demonstrates the program for Alyssa:\n",
    "\n",
    "```scheme\n",
    "(new-if (= 2 3) 0 5)\n",
    "5\n",
    "(new-if (= 1 1) 0 5)\n",
    "0\n",
    "```\n",
    "Delighted, Alyssa uses `new-if` to rewrite the square-root program:\n",
    "```scheme\n",
    "(define (sqrt-iter guess x)\n",
    "  (new-if (good-enough? guess x)\n",
    "          guess\n",
    "          (sqrt-iter (improve guess x) x)))\n",
    "\n",
    "```\n",
    "What happens when Alyssa attempts to use this to compute square roots? Explain.\n",
    "\n",
    "#### Solution:\n",
    "\n",
    "**Consider the Original Solution:**\n",
    "```lisp\n",
    "(define (average x y) (/ (+ x y) 2.0))\n",
    "(define (improve guess x) ( average guess (/ x guess)))\n",
    "(define (abs-diff x y) (abs (- x y)))\n",
    "(define (square x) (* x x))\n",
    "(define (good-enough? guess x) (< (abs-diff (square guess) x) 0.001))\n",
    "\n",
    "(define (sqrt-iter guess x)\n",
    "  (if (good-enough? guess x) guess\n",
    "      (sqrt-iter (improve guess x) x )))\n",
    "\n",
    "(define (half x) (/ x 2.0))\n",
    "(define (sqrt x) (sqrt-iter (half x) x))\n",
    "```\n",
    "\n",
    "**Which outputs:**\n",
    "```text\n",
    ">(sqrt-iter 50.0 100)\n",
    ">(sqrt-iter 26.0 100)\n",
    ">(sqrt-iter 14.923076923076923 100)\n",
    ">(sqrt-iter 10.812053925455988 100)\n",
    ">(sqrt-iter 10.030495203889796 100)\n",
    ">(sqrt-iter 10.000046356507898 100)\n",
    "<10.000046356507898\n",
    "```\n",
    "\n",
    "**Then the new one:**\n",
    "\n",
    "```lisp\n",
    "(define (average x y) (/ (+ x y) 2.0))\n",
    "(define (improve guess x) ( average guess (/ x guess)))\n",
    "(define (abs-diff x y) (abs (- x y)))\n",
    "(define (square x) (* x x))\n",
    "(define (good-enough? guess x) (< (abs-diff (square guess) x) 0.001))\n",
    "\n",
    "(define (half x) (/ x 2.0))\n",
    "\n",
    "(define (new-if predicate then-clause else-clause)\n",
    "  (cond (predicate then-clause)\n",
    "        (else else-clause)))\n",
    "\n",
    "(define (sqrt-iter guess x)\n",
    "  (new-if (good-enough? guess x)\n",
    "          guess\n",
    "          (sqrt-iter (improve guess x) x)))\n",
    "\n",
    "(define (sqrt x) (sqrt-iter (half x) x))\n",
    "```\n",
    "\n",
    "**Outputs:**\n",
    "```\n",
    ">(sqrt-iter 5.0 10)\n",
    "> (sqrt-iter 3.5 10)\n",
    "> >(sqrt-iter 3.178571428571429 10)\n",
    "> > (sqrt-iter 3.162319422150883 10)\n",
    "> > >(sqrt-iter 3.1622776604441363 10)\n",
    "> > > (sqrt-iter 3.162277660168379 10)\n",
    "> > > >(sqrt-iter 3.162277660168379 10)\n",
    "> > > > (sqrt-iter 3.162277660168379 10)\n",
    "> > > > >(sqrt-iter 3.162277660168379 10)\n",
    "> > > > > (sqrt-iter 3.162277660168379 10)\n",
    "> > > >[10] (sqrt-iter 3.162277660168379 10)\n",
    "> > > >[11] (sqrt-iter 3.162277660168379 10)\n",
    "> > > >[12] (sqrt-iter 3.162277660168379 10)\n",
    "> > > >[13] (sqrt-iter 3.162277660168379 10)\n",
    "> > > >[14] (sqrt-iter 3.162277660168379 10)\n",
    "> > > >[15] (sqrt-iter 3.162277660168379 10)\n",
    "> > > >[16] (sqrt-iter 3.162277660168379 10)\n",
    "...\n",
    "```\n",
    "\n"
   ]
  },
  {
   "cell_type": "markdown",
   "id": "3cf96cdc-6744-4513-ad6a-5d0d33f2138e",
   "metadata": {},
   "source": [
    "\n",
    "#### Hypothesis #1:\n",
    "- `new-if` does not prevent **applicative-ordering** w.r.t `else-clause` while the actual `if` prevents the `else` clause to perform **applicative-ordering**\n",
    "- Wrong\n",
    "\n",
    "#### Answer:\n",
    "- `new-if` is an procedure. Meanwhile, `if` is a construct.\n",
    "- `if` behaves in a way that will only evaluate the `else` construct if the predicate was false.\n",
    "- Since `new-if` \n",
    "\n",
    "#### Proof:\n",
    "The code below clearly shows this behavior. Due to **Applicative-Ordering**, both arguments of `new-if` were evaluated "
   ]
  },
  {
   "cell_type": "code",
   "execution_count": 21,
   "id": "26737d21",
   "metadata": {
    "vscode": {
     "languageId": "racket"
    }
   },
   "outputs": [
    {
     "name": "stdout",
     "output_type": "stream",
     "text": [
      "-----------------------------------------------------------------------------\n",
      "if behaviour -- Only one branch is evaluated.\n",
      "-----------------------------------------------------------------------------\n",
      "if hits\n",
      "-----------------------------------------------------------------------------\n",
      "\n",
      "-----------------------------------------------------------------------------\n",
      "new-if behaviour -- Two branches were evaluated due to applicative ordering.\n",
      "new-if hits\n",
      "new-if else\n",
      "-----------------------------------------------------------------------------\n"
     ]
    }
   ],
   "source": [
    "(define (plus x y) (+ x y))\n",
    "\n",
    "(define (new-if predicate then-clause else-clause)\n",
    "  (cond (predicate then-clause)\n",
    "        (else else-clause)))\n",
    "\n",
    "(printf \"-----------------------------------------------------------------------------\\n\")\n",
    "(printf \"if behaviour -- Only one branch is evaluated.\\n\")\n",
    "(printf \"-----------------------------------------------------------------------------\\n\")\n",
    "(if (< 5 10) (printf \"if hits\\n\") (printf \"if else hits\\n\"))\n",
    "(printf \"-----------------------------------------------------------------------------\\n\")\n",
    "(printf \"\\n\")\n",
    "(printf \"-----------------------------------------------------------------------------\\n\")\n",
    "(printf \"new-if behaviour -- Two branches were evaluated due to applicative ordering.\\n\")\n",
    "(new-if (< 5 10) (printf \"new-if hits\\n\") (printf \"new-if else\\n\"))\n",
    "(printf \"-----------------------------------------------------------------------------\\n\")"
   ]
  },
  {
   "cell_type": "code",
   "execution_count": null,
   "id": "7088e411-a696-4ce5-adc8-b688fce94302",
   "metadata": {
    "vscode": {
     "languageId": "racket"
    }
   },
   "outputs": [],
   "source": [
    "(define (average x y) (/ (+ x y) 2.0))\n",
    "(define (improve guess x) ( average guess (/ x guess)))\n",
    "(define (abs-diff x y) (abs (- x y)))\n",
    "(define (square x) (* x x))\n",
    "(define (good-enough? guess x) (< (abs-diff (square guess) x) 0.001))\n",
    "\n",
    "(define (half x) (/ x 2.0))\n",
    "\n",
    "(define (new-if predicate then-clause else-clause)\n",
    "  (cond (predicate then-clause)\n",
    "        (else else-clause)))\n",
    "\n",
    "(define (sqrt-iter guess x)\n",
    "  (new-if (good-enough? guess x)\n",
    "          guess\n",
    "          (sqrt-iter (improve guess x) x)))\n",
    "\n",
    "(define (sqrt x) (sqrt-iter (half x) x))\n",
    "\n",
    "; WARNING: THIS CODE \n",
    "; (new-if (good-enough? 3.000015360039322 10))"
   ]
  },
  {
   "cell_type": "code",
   "execution_count": null,
   "id": "c0142485-7ef6-415a-9706-7aec72357016",
   "metadata": {
    "vscode": {
     "languageId": "racket"
    }
   },
   "outputs": [
    {
     "name": "stdout",
     "output_type": "stream",
     "text": [
      ">(square 3.000015360039322)\n",
      "<9.000092160471862\n",
      ">(abs-diff 9.000092160471862 10)\n",
      "<0.999907839528138\n"
     ]
    },
    {
     "name": "stderr",
     "output_type": "stream",
     "text": [
      "new-if: arity mismatch;\n",
      " the expected number of arguments does not match the given number\n",
      "  expected: 3\n",
      "  given: 1\n",
      "  context...:\n",
      "   body of top-level\n"
     ]
    }
   ],
   "source": []
  },
  {
   "cell_type": "markdown",
   "id": "e97439b9-0178-48e3-a1c1-6c352071e74f",
   "metadata": {},
   "source": [
    "#### Exercise 1.7:\n",
    "\n",
    "The `good-enough?` test used in computing square roots will not be very effective for finding the square roots of very small numbers. Also, in real computers, arithmetic operations are almost always performed with limited precision. This makes our test inadequate for very large numbers. Explain these statements, with examples showing how the test fails for small and large numbers. An alternative strategy for implementing `good-enough?` is to watch how `guess` changes from one iteration to the next and to stop when the change is a very small fraction of the `guess`. Design a square-root procedure that uses this kind of end test. Does this work better for small and large numbers?\n",
    "\n",
    "#### Solution:\n",
    "..."
   ]
  },
  {
   "cell_type": "code",
   "execution_count": null,
   "id": "2986be09-03c1-45a6-a721-a399487fe7af",
   "metadata": {
    "vscode": {
     "languageId": "racket"
    }
   },
   "outputs": [],
   "source": []
  },
  {
   "cell_type": "markdown",
   "id": "d98a1bf9-b3d0-44ca-8c1c-b388c190505b",
   "metadata": {
    "jp-MarkdownHeadingCollapsed": true
   },
   "source": [
    "#### Exercise 1.8:\n",
    "\n",
    "Newton’s method for cube roots is based on the fact that if $y$ is an approximation to the cube root of $x$, then a better approximation is given by the value:\n",
    "\n",
    "$$\\frac{x / y^2 + 2y}{3}.$$\n",
    "\n",
    "Use this formula to implement a cube-root procedure analogous to the square-root procedure. (In **Section 1.3.4**, we will see how to implement Newton’s method in general as an abstraction of these square-root and cube-root procedures.)\n",
    "\n",
    "#### Literature Review:\n",
    "In *numerical analysis*, the **Newton–Raphson method**, also known simply as **Newton's method**, named after *Isaac Newton* and *Joseph Raphson*, is a *root-finding algorithm* which produces successively better approximations to the roots (or zeroes) of a *real-valued function*. The most basic version starts with a *real-valued function* $f$, its derivative $f'$, and an initial guess $x_0$ for a root of $f$. If $f$ satisfies certain assumptions and the initial guess is close, then:\n",
    "\n",
    "$$\n",
    "x_1 = x_0 - \\frac{f(x_0)}{f'(x_0)}\n",
    "$$\n",
    "\n",
    "is a better approximation of the root than $x_0$. Geometrically, $(x_1, 0)$ is the *x-intercept* of the *tangent* of the graph of $f$ at $(x_0, f(x_0))$: that is, the improved guess, $x_1$, is the unique root of the *linear approximation* of $f$ at the initial guess, $x_0$. The process is repeated as:\n",
    "\n",
    "$$\n",
    "x_{n+1} = x_n - \\frac{f(x_n)}{f'(x_n)}\n",
    "$$\n",
    "\n",
    "until a sufficiently precise value is reached. The number of correct digits roughly doubles with each step. This algorithm is first in the class of *Householder's methods*, and was succeeded by *Halley's method*. The method can also be extended to *complex functions* and to *systems of equations*.\n",
    "\n",
    "\n"
   ]
  },
  {
   "cell_type": "markdown",
   "id": "a1728a78-ec3d-4d4d-8e3b-12b3ce66c09a",
   "metadata": {},
   "source": [
    "#### Solution:"
   ]
  },
  {
   "cell_type": "markdown",
   "id": "55278420-f449-4a85-ae19-9d49405078ab",
   "metadata": {},
   "source": [
    "In this problem, we want to approximate the root of the following equation\n",
    "\n",
    "$$ \n",
    "f(x) = {x}^3 - a = 0\n",
    "$$\n",
    "\n",
    "**Let:**\n",
    "\n",
    "$$f(x_n) = {x_n}^{3} - a$$\n",
    "\n",
    "$$f'(x_n) = 3{x_n}^{3}$$\n",
    "\n",
    "**Then:**\n",
    "$$x_{n+1} = x_n - \\frac{{x_n}^{3} - a}{3{x_n}^2}$$"
   ]
  },
  {
   "cell_type": "markdown",
   "id": "1f898d00-9025-4f7e-a509-544396446d83",
   "metadata": {},
   "source": [
    "**Then:**\n",
    "\n",
    "$$x_{n+1} = \\frac{3x_n^3 - x_n^3 + a}{3x_n^2}$$"
   ]
  },
  {
   "cell_type": "markdown",
   "id": "e2a83475-c412-4ca8-a78b-4437c9640124",
   "metadata": {},
   "source": [
    "**Finally:**\n",
    "\n",
    "$$x_{n+1} = (\\frac{1}{3})(2x_n+\\frac{a}{x_n^2}) \\quad$$\n",
    "\n",
    "**Where**\n",
    "- $x_n$ is the current guess cube-root\n",
    "- $a$ is the number where you want to calculate the root\n",
    "- $x_{n+1}$ next guess\n",
    "\n",
    "**Solution:**"
   ]
  },
  {
   "cell_type": "code",
   "execution_count": 93,
   "id": "588d5c8d-6819-4687-afa8-143f5041ad1a",
   "metadata": {
    "vscode": {
     "languageId": "racket"
    }
   },
   "outputs": [
    {
     "name": "stdout",
     "output_type": "stream",
     "text": [
      "Verifying error-function\n",
      "---------------------------------------------------\n",
      "err = 1.0\n",
      "err = 0.0\n",
      "err = 1.9\n",
      "\n",
      "Verifying Newton-Raphson approximation in one iteration\n",
      "---------------------------------------------------\n",
      "func = 2.0\n",
      "func = 3.0\n",
      "func = 4.0\n",
      "\n",
      "Verifying cube-root approximation\n",
      "---------------------------------------------------\n",
      "cube-root = 4.000000000000054\n",
      "cube-root = 5.000000000037912\n",
      "cube-root = 6.00000000002007\n",
      "\n"
     ]
    }
   ],
   "source": [
    "(define (calc-err x thresh) (abs (- x thresh)))\n",
    "(define (func x a) (* (/ 1.0 3.0) (+ (* 2 x) (/ a (* x x)))))\n",
    "(define (cube-root x0 a) ( let ((x1 (func x0 a))) (if (< (calc-err x1 x0) 0.001) x1 (cube-root x1 a))))\n",
    "\n",
    "(printf \"Verifying error-function\\n---------------------------------------------------\\n\")\n",
    "(printf \"err = ~a\\n\" (calc-err 1.0 2.0))\n",
    "(printf \"err = ~a\\n\" (calc-err 2.0 2.0))\n",
    "(printf \"err = ~a\\n\" (calc-err 0.1 2.0))\n",
    "(printf \"\\n\")\n",
    "\n",
    "(printf \"Verifying Newton-Raphson approximation in one iteration\\n---------------------------------------------------\\n\")\n",
    "(printf \"func = ~a\\n\" (func 2 8))\n",
    "(printf \"func = ~a\\n\" (func 3 (* 3 3 3)))\n",
    "(printf \"func = ~a\\n\" (func 4 (* 4 4 4)))\n",
    "(printf \"\\n\")\n",
    "\n",
    "(printf \"Verifying cube-root approximation\\n---------------------------------------------------\\n\")\n",
    "(printf \"cube-root = ~a\\n\" (cube-root 3.5 (* 4 4 4)))\n",
    "(printf \"cube-root = ~a\\n\" (cube-root 12.1312131 (* 5 5 5)))\n",
    "(printf \"cube-root = ~a\\n\" (cube-root 9.888 (* 6 6 6)))\n",
    "(printf \"\\n\")\n"
   ]
  },
  {
   "cell_type": "code",
   "execution_count": null,
   "id": "ff97865d-098f-48c7-8883-ab51150aed8f",
   "metadata": {
    "vscode": {
     "languageId": "racket"
    }
   },
   "outputs": [],
   "source": []
  }
 ],
 "metadata": {
  "kernelspec": {
   "display_name": "Racket",
   "language": "racket",
   "name": "racket"
  },
  "language_info": {
   "codemirror_mode": "scheme",
   "file_extension": ".rkt",
   "mimetype": "text/x-racket",
   "name": "Racket",
   "pygments_lexer": "racket",
   "version": "8.15"
  }
 },
 "nbformat": 4,
 "nbformat_minor": 5
}
