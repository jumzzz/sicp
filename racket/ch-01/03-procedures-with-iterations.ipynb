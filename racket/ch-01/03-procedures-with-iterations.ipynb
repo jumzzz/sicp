{
 "cells": [
  {
   "cell_type": "markdown",
   "id": "dd9c562c-e406-40f6-bffd-de1e9af190bb",
   "metadata": {},
   "source": [
    "#### Comparing Mathematical Functions and Procedures\n",
    "- In mathematics, we are usually concerned with declarative (what is) descriptions where as in Computer Science, we are usually concerned with imperative (how to) descriptions.\n",
    "\n",
    "#### Comment:\n",
    "- This is an important distinction, because this implies that it's not necessarily important to know the **what is** in solving Computer Science problem. But knowing both helps and can be advantageous, it is just not mandatory.\n",
    "\n",
    "#### Additional Comment:\n",
    "- The correctness of a program meanwhile is an **declarative statement** since it also concerns with proofs that your program is indeed correct.\n"
   ]
  },
  {
   "cell_type": "markdown",
   "id": "e11b6805-c31b-43e6-9cc3-25a4364b814e",
   "metadata": {},
   "source": [
    "#### Exercise 1.6:\n",
    "\n",
    "Alyssa P. Hacker doesn’t see why `if` needs to be provided as a special form. “Why can’t I just define it as an ordinary procedure in terms of `cond`?” she asks. Alyssa’s friend Eva Lu Ator claims this can indeed be done, and she defines a new version of `if`:\n",
    "\n",
    "```scheme\n",
    "(define (new-if predicate then-clause else-clause)\n",
    "  (cond (predicate then-clause)\n",
    "        (else else-clause)))\n",
    "```\n",
    "\n",
    "Eva demonstrates the program for Alyssa:\n",
    "\n",
    "```scheme\n",
    "(new-if (= 2 3) 0 5)\n",
    "5\n",
    "(new-if (= 1 1) 0 5)\n",
    "0\n",
    "```\n",
    "Delighted, Alyssa uses `new-if` to rewrite the square-root program:\n",
    "```scheme\n",
    "(define (sqrt-iter guess x)\n",
    "  (new-if (good-enough? guess x)\n",
    "          guess\n",
    "          (sqrt-iter (improve guess x) x)))\n",
    "\n",
    "```\n",
    "What happens when Alyssa attempts to use this to compute square roots? Explain.\n",
    "\n",
    "#### Solution:\n",
    "..."
   ]
  },
  {
   "cell_type": "code",
   "execution_count": null,
   "id": "7088e411-a696-4ce5-adc8-b688fce94302",
   "metadata": {},
   "outputs": [],
   "source": []
  },
  {
   "cell_type": "markdown",
   "id": "e97439b9-0178-48e3-a1c1-6c352071e74f",
   "metadata": {},
   "source": [
    "#### Exercise 1.7:\n",
    "\n",
    "The `good-enough?` test used in computing square roots will not be very effective for finding the square roots of very small numbers. Also, in real computers, arithmetic operations are almost always performed with limited precision. This makes our test inadequate for very large numbers. Explain these statements, with examples showing how the test fails for small and large numbers. An alternative strategy for implementing `good-enough?` is to watch how `guess` changes from one iteration to the next and to stop when the change is a very small fraction of the `guess`. Design a square-root procedure that uses this kind of end test. Does this work better for small and large numbers?\n",
    "\n",
    "#### Solution:\n",
    "..."
   ]
  },
  {
   "cell_type": "code",
   "execution_count": null,
   "id": "2986be09-03c1-45a6-a721-a399487fe7af",
   "metadata": {},
   "outputs": [],
   "source": []
  },
  {
   "cell_type": "markdown",
   "id": "d98a1bf9-b3d0-44ca-8c1c-b388c190505b",
   "metadata": {},
   "source": [
    "#### Exercise 1.8:\n",
    "\n",
    "Newton’s method for cube roots is based on the fact that if $y$ is an approximation to the cube root of $x$, then a better approximation is given by the value:\n",
    "\n",
    "$$\\frac{x / y^2 + 2y}{3}.$$\n",
    "\n",
    "Use this formula to implement a cube-root procedure analogous to the square-root procedure. (In **Section 1.3.4**, we will see how to implement Newton’s method in general as an abstraction of these square-root and cube-root procedures.)\n",
    "\n",
    "#### Solution:\n",
    "..."
   ]
  },
  {
   "cell_type": "code",
   "execution_count": null,
   "id": "32f43871-5354-4cf6-ab5e-48549fd7f94d",
   "metadata": {},
   "outputs": [],
   "source": []
  }
 ],
 "metadata": {
  "kernelspec": {
   "display_name": "Racket",
   "language": "racket",
   "name": "racket"
  },
  "language_info": {
   "codemirror_mode": "scheme",
   "file_extension": ".rkt",
   "mimetype": "text/x-racket",
   "name": "Racket",
   "pygments_lexer": "racket",
   "version": "8.15"
  }
 },
 "nbformat": 4,
 "nbformat_minor": 5
}
