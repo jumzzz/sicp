{
 "cells": [
  {
   "cell_type": "markdown",
   "id": "dd9c562c-e406-40f6-bffd-de1e9af190bb",
   "metadata": {},
   "source": [
    "#### Comparing Mathematical Functions and Procedures\n",
    "- In mathematics, we are usually concerned with declarative (what is) descriptions where as in Computer Science, we are usually concerned with imperative (how to) descriptions.\n",
    "\n",
    "#### Comment:\n",
    "- This is an important distinction, because this implies that it's not necessarily important to know the **what is** in solving Computer Science problem. But knowing both helps and can be advantageous, it is just not mandatory.\n",
    "\n",
    "#### Additional Comment:\n",
    "- The correctness of a program meanwhile is an **declarative statement** since it also concerns with proofs that your program is indeed correct.\n"
   ]
  },
  {
   "cell_type": "code",
   "execution_count": 66,
   "id": "d1c6728b-4ef2-4aef-b0ee-8102e5ddeef4",
   "metadata": {},
   "outputs": [
    {
     "data": {
      "text/html": [
       "<code>6</code>"
      ],
      "text/plain": [
       "6"
      ]
     },
     "execution_count": 66,
     "metadata": {},
     "output_type": "execute_result"
    }
   ],
   "source": [
    "(define (some-func x) (let ((y 3)) (+ x y)))\n",
    "(some-func 3)"
   ]
  },
  {
   "cell_type": "markdown",
   "id": "e11b6805-c31b-43e6-9cc3-25a4364b814e",
   "metadata": {},
   "source": [
    "#### Exercise 1.6:\n",
    "\n",
    "Alyssa P. Hacker doesn’t see why `if` needs to be provided as a special form. “Why can’t I just define it as an ordinary procedure in terms of `cond`?” she asks. Alyssa’s friend Eva Lu Ator claims this can indeed be done, and she defines a new version of `if`:\n",
    "\n",
    "```scheme\n",
    "(define (new-if predicate then-clause else-clause)\n",
    "  (cond (predicate then-clause)\n",
    "        (else else-clause)))\n",
    "```\n",
    "\n",
    "Eva demonstrates the program for Alyssa:\n",
    "\n",
    "```scheme\n",
    "(new-if (= 2 3) 0 5)\n",
    "5\n",
    "(new-if (= 1 1) 0 5)\n",
    "0\n",
    "```\n",
    "Delighted, Alyssa uses `new-if` to rewrite the square-root program:\n",
    "```scheme\n",
    "(define (sqrt-iter guess x)\n",
    "  (new-if (good-enough? guess x)\n",
    "          guess\n",
    "          (sqrt-iter (improve guess x) x)))\n",
    "\n",
    "```\n",
    "What happens when Alyssa attempts to use this to compute square roots? Explain.\n",
    "\n",
    "#### Solution:\n",
    "..."
   ]
  },
  {
   "cell_type": "code",
   "execution_count": null,
   "id": "7088e411-a696-4ce5-adc8-b688fce94302",
   "metadata": {},
   "outputs": [],
   "source": []
  },
  {
   "cell_type": "markdown",
   "id": "e97439b9-0178-48e3-a1c1-6c352071e74f",
   "metadata": {},
   "source": [
    "#### Exercise 1.7:\n",
    "\n",
    "The `good-enough?` test used in computing square roots will not be very effective for finding the square roots of very small numbers. Also, in real computers, arithmetic operations are almost always performed with limited precision. This makes our test inadequate for very large numbers. Explain these statements, with examples showing how the test fails for small and large numbers. An alternative strategy for implementing `good-enough?` is to watch how `guess` changes from one iteration to the next and to stop when the change is a very small fraction of the `guess`. Design a square-root procedure that uses this kind of end test. Does this work better for small and large numbers?\n",
    "\n",
    "#### Solution:\n",
    "..."
   ]
  },
  {
   "cell_type": "code",
   "execution_count": null,
   "id": "2986be09-03c1-45a6-a721-a399487fe7af",
   "metadata": {},
   "outputs": [],
   "source": []
  },
  {
   "cell_type": "markdown",
   "id": "d98a1bf9-b3d0-44ca-8c1c-b388c190505b",
   "metadata": {
    "jp-MarkdownHeadingCollapsed": true
   },
   "source": [
    "#### Exercise 1.8:\n",
    "\n",
    "Newton’s method for cube roots is based on the fact that if $y$ is an approximation to the cube root of $x$, then a better approximation is given by the value:\n",
    "\n",
    "$$\\frac{x / y^2 + 2y}{3}.$$\n",
    "\n",
    "Use this formula to implement a cube-root procedure analogous to the square-root procedure. (In **Section 1.3.4**, we will see how to implement Newton’s method in general as an abstraction of these square-root and cube-root procedures.)\n",
    "\n",
    "#### Literature Review\n",
    "In *numerical analysis*, the **Newton–Raphson method**, also known simply as **Newton's method**, named after *Isaac Newton* and *Joseph Raphson*, is a *root-finding algorithm* which produces successively better approximations to the roots (or zeroes) of a *real-valued function*. The most basic version starts with a *real-valued function* $f$, its derivative $f'$, and an initial guess $x_0$ for a root of $f$. If $f$ satisfies certain assumptions and the initial guess is close, then:\n",
    "\n",
    "$$\n",
    "x_1 = x_0 - \\frac{f(x_0)}{f'(x_0)}\n",
    "$$\n",
    "\n",
    "is a better approximation of the root than $x_0$. Geometrically, $(x_1, 0)$ is the *x-intercept* of the *tangent* of the graph of $f$ at $(x_0, f(x_0))$: that is, the improved guess, $x_1$, is the unique root of the *linear approximation* of $f$ at the initial guess, $x_0$. The process is repeated as:\n",
    "\n",
    "$$\n",
    "x_{n+1} = x_n - \\frac{f(x_n)}{f'(x_n)}\n",
    "$$\n",
    "\n",
    "until a sufficiently precise value is reached. The number of correct digits roughly doubles with each step. This algorithm is first in the class of *Householder's methods*, and was succeeded by *Halley's method*. The method can also be extended to *complex functions* and to *systems of equations*.\n",
    "\n",
    "\n"
   ]
  },
  {
   "cell_type": "markdown",
   "id": "a1728a78-ec3d-4d4d-8e3b-12b3ce66c09a",
   "metadata": {},
   "source": [
    "#### Solution:"
   ]
  },
  {
   "cell_type": "markdown",
   "id": "55278420-f449-4a85-ae19-9d49405078ab",
   "metadata": {},
   "source": [
    "In this problem, we want to approximate the root of the following equation\n",
    "\n",
    "$$ \n",
    "f(x) = x^3 - a = 0\n",
    "$$\n",
    "\n",
    "**Let:**\n",
    "\n",
    "$$f(x) = x^{3} - a$$\n",
    "\n",
    "$$f'(x) = 3x^{3}$$\n",
    "\n",
    "$$x = x - \\frac{{x}^{3} - a}{3{x}^2}$$"
   ]
  },
  {
   "cell_type": "markdown",
   "id": "1f898d00-9025-4f7e-a509-544396446d83",
   "metadata": {},
   "source": [
    "**Then:**\n",
    "\n",
    "$$x = \\frac{3x^3 - x^3 + a}{3x^2}$$"
   ]
  },
  {
   "cell_type": "markdown",
   "id": "e2a83475-c412-4ca8-a78b-4437c9640124",
   "metadata": {},
   "source": [
    "**Finally:**\n",
    "\n",
    "$$x = (\\frac{1}{3})(2x+\\frac{a}{x^2}) \\quad$$\n",
    "\n",
    "**Solution:**"
   ]
  },
  {
   "cell_type": "code",
   "execution_count": 84,
   "id": "588d5c8d-6819-4687-afa8-143f5041ad1a",
   "metadata": {},
   "outputs": [
    {
     "name": "stdout",
     "output_type": "stream",
     "text": [
      "Verifying error-function\n",
      "---------------------------------------------------\n",
      "err = 1.0\n",
      "err = 0.0\n",
      "err = 1.9\n",
      "\n",
      "Verifying Newton-Raphson approximation in one iteration\n",
      "---------------------------------------------------\n",
      "func = 1.0\n",
      "func = 2.0\n",
      "func = 3.0\n",
      "func = 4.0\n",
      "\n",
      "Verifying cube-root approximation\n",
      "---------------------------------------------------\n",
      "cube-root = 2.0\n",
      "cube-root = 3.0000000000001856\n",
      "cube-root = 4.000000000000054\n",
      "cube-root = 5.000000000003546\n",
      "cube-root = 6.000000000000008\n",
      "\n"
     ]
    }
   ],
   "source": [
    "(define (calc-err x thresh) (abs (- x thresh)))\n",
    "(define (func x a) (* (/ 1.0 3.0) (+ (* 2 x) (/ a (* x x)))))\n",
    "(define (cube-root x0 a) ( let ((x1 (func x0 a))) (if (< (calc-err x1 x0) 0.001) x1 (cube-root x1 a))))\n",
    "\n",
    "(printf \"Verifying error-function\\n---------------------------------------------------\\n\")\n",
    "(printf \"err = ~a\\n\" (calc-err 1.0 2.0))\n",
    "(printf \"err = ~a\\n\" (calc-err 2.0 2.0))\n",
    "(printf \"err = ~a\\n\" (calc-err 0.1 2.0))\n",
    "(printf \"\\n\")\n",
    "\n",
    "(printf \"Verifying Newton-Raphson approximation in one iteration\\n---------------------------------------------------\\n\")\n",
    "(printf \"func = ~a\\n\" (func 1 1))\n",
    "(printf \"func = ~a\\n\" (func 2 8))\n",
    "(printf \"func = ~a\\n\" (func 3 (* 3 3 3)))\n",
    "(printf \"func = ~a\\n\" (func 4 (* 4 4 4)))\n",
    "(printf \"\\n\")\n",
    "\n",
    "(printf \"Verifying cube-root approximation\\n---------------------------------------------------\\n\")\n",
    "(printf \"cube-root = ~a\\n\" (cube-root 2 8))\n",
    "(printf \"cube-root = ~a\\n\" (cube-root 3.5 (* 3 3 3)))\n",
    "(printf \"cube-root = ~a\\n\" (cube-root 3.5 (* 4 4 4)))\n",
    "(printf \"cube-root = ~a\\n\" (cube-root 5.99 (* 5 5 5)))\n",
    "(printf \"cube-root = ~a\\n\" (cube-root 6.77 (* 6 6 6)))\n",
    "(printf \"\\n\")\n"
   ]
  },
  {
   "cell_type": "code",
   "execution_count": null,
   "id": "ff97865d-098f-48c7-8883-ab51150aed8f",
   "metadata": {},
   "outputs": [],
   "source": []
  }
 ],
 "metadata": {
  "kernelspec": {
   "display_name": "Racket",
   "language": "racket",
   "name": "racket"
  },
  "language_info": {
   "codemirror_mode": "scheme",
   "file_extension": ".rkt",
   "mimetype": "text/x-racket",
   "name": "Racket",
   "pygments_lexer": "racket",
   "version": "8.15"
  }
 },
 "nbformat": 4,
 "nbformat_minor": 5
}
