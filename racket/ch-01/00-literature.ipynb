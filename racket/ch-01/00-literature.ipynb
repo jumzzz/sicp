{
 "cells": [
  {
   "cell_type": "markdown",
   "id": "46eba23d-c45c-4491-93a9-28414aeb08ea",
   "metadata": {},
   "source": [
    "#### Literature Cited:\n",
    "- Recursive Functions of Symbolic Expressions and Their Computation Machine (McCarthy 1960)"
   ]
  },
  {
   "cell_type": "code",
   "execution_count": null,
   "id": "1e1744b3-6ea1-48db-b7eb-3f7c04daa692",
   "metadata": {},
   "outputs": [],
   "source": []
  }
 ],
 "metadata": {
  "kernelspec": {
   "display_name": "Racket",
   "language": "racket",
   "name": "racket"
  },
  "language_info": {
   "codemirror_mode": "scheme",
   "file_extension": ".rkt",
   "mimetype": "text/x-racket",
   "name": "Racket",
   "pygments_lexer": "racket",
   "version": "8.15"
  }
 },
 "nbformat": 4,
 "nbformat_minor": 5
}
