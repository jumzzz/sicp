{
 "cells": [
  {
   "cell_type": "markdown",
   "id": "3d3f16cc-9f2a-4ea8-9d40-6912a7a51e4b",
   "metadata": {},
   "source": [
    "#### Exercise 1.1:\n",
    "Below is a sequence of expressions. What is the result printed by the interpreter in response to each expression? Assume that the sequence is to be evaluated in the order in which it is presented.\n",
    "\n",
    "```scheme\n",
    "10               \n",
    "(+ 5 3 4)                  \n",
    "(- 9 1)\n",
    "(/ 6 2)\n",
    "(+ (* 2 4) (- 4 6))\n",
    "(define a 3)\n",
    "(define b (+ a 1))\n",
    "(+ a b (* a b))\n",
    "(= a b)\n",
    "(if (and (> b a) (< b (* a b)))\n",
    "    b\n",
    "    a)\n",
    "\n",
    "(cond ((= a 4) 6)\n",
    "      ((= b 4) (+ 6 7 a))\n",
    "      (else 25))\n",
    "\n",
    "(+ 2 (if (> b a) b a))\n",
    "\n",
    "(* (cond ((> a b) a)\n",
    "         ((< a b) b)\n",
    "         (else -1))\n",
    "   (+ a 1))\n",
    "```\n",
    "\n",
    "### Answer:\n",
    "\n",
    "```scheme\n",
    "10 ; r1=10               \n",
    "(+ 5 3 4) ; r2=12                  \n",
    "(- 9 1) ; r3=8\n",
    "(/ 6 2) ; r4=3\n",
    "(+ (* 2 4) (- 4 6)) ; r5=6\n",
    "(define a 3) ; r6=3\n",
    "(define b (+ a 1)) ; r7=4\n",
    "(+ a b (* a b)) ; (+ 4 3 12) -> r8=19\n",
    "(= a b) ; r9=false\n",
    "(if (and (> b a) (< b (* a b))) ; r10=b  \n",
    "    b\n",
    "    a)\n",
    "\n",
    "(cond ((= a 4) 6) ; \n",
    "      ((= b 4) (+ 6 7 a)) ; r11=16\n",
    "      (else 25)) ; nope\n",
    "\n",
    "(+ 2 (if (> b a) b a)) ; r12=6\n",
    "\n",
    "(* (cond ((> a b) a) ; false \n",
    "         ((< a b) b) ; r13=b\n",
    "         (else -1)) ; nope\n",
    "   (+ a 1)) ; r13=16\n",
    "```"
   ]
  },
  {
   "cell_type": "code",
   "execution_count": 12,
   "id": "c00d24ba-c0db-4320-9861-ecfb300fc89c",
   "metadata": {},
   "outputs": [
    {
     "name": "stdout",
     "output_type": "stream",
     "text": [
      "-----------------\n",
      "Verification:\n",
      "-----------------\n",
      "r1 = 10\n",
      "r2 = 12\n",
      "r3 = 8\n",
      "r4 = 3\n",
      "r5 = 6\n",
      "r6 = 3\n",
      "r7 = 4\n",
      "r8 = 19\n",
      "r9 = #f\n",
      "r10 = 4\n",
      "r11 = 16\n",
      "r12 = 6\n",
      "r13 = 16\n",
      "-----------------\n"
     ]
    }
   ],
   "source": [
    "; We got things correctly\n",
    "(define a 3)\n",
    "(define b (+ a 1))\n",
    "\n",
    "(printf \"-----------------\\n\")\n",
    "(printf \"Verification:\\n-----------------\\n\")\n",
    "(printf \"r1 = ~a\\n\" 10)\n",
    "(printf \"r2 = ~a\\n\" (+ 5 3 4))\n",
    "(printf \"r3 = ~a\\n\" (- 9 1))\n",
    "(printf \"r4 = ~a\\n\" (/ 6 2))\n",
    "(printf \"r5 = ~a\\n\" (+ (* 2 4) (- 4 6)))\n",
    "(printf \"r6 = ~a\\n\" a)\n",
    "(printf \"r7 = ~a\\n\" b)\n",
    "(printf \"r8 = ~a\\n\" (+ a b (* a b)))\n",
    "(printf \"r9 = ~a\\n\" (= a b))\n",
    "(printf \"r10 = ~a\\n\" (if (and (> b a) (< b (* a b))) b a))\n",
    "(printf \"r11 = ~a\\n\" (cond ((= a 4) 6) ((= b 4) (+ 6 7 a)) (else 25)))\n",
    "(printf \"r12 = ~a\\n\" (+ 2 (if (> b a) b a)))\n",
    "(printf \"r13 = ~a\\n\" (* (cond ((> a b) a) ((< a b) b) (else -1)) (+ a 1)))\n",
    "(printf \"-----------------\\n\")"
   ]
  },
  {
   "cell_type": "markdown",
   "id": "601a5c01-6880-42ac-a114-8158cd3a75cf",
   "metadata": {},
   "source": [
    "#### Exercise 1.2:\n",
    "Translate the following expression into prefix form:\n",
    "\n",
    "$$\n",
    "\\frac{5 + 4 + \\left( 2 - \\left( 3 - \\left( 6 + \\frac{4}{5} \\right) \\right) \\right)}{3(6 - 2)(2 - 7)}.\n",
    "$$"
   ]
  },
  {
   "cell_type": "code",
   "execution_count": 13,
   "id": "e0208e04-c0ca-48e3-b80f-2a3e61da8484",
   "metadata": {},
   "outputs": [
    {
     "data": {
      "text/html": [
       "<code>-37/150</code>"
      ],
      "text/plain": [
       "-37/150"
      ]
     },
     "execution_count": 13,
     "metadata": {},
     "output_type": "execute_result"
    }
   ],
   "source": [
    "( / \n",
    "  (+ 5 4 (- 2 (- 3 (+ 6 (/ 4 5))))) \n",
    "  (* 3 (- 6 2) (- 2 7))\n",
    ")"
   ]
  },
  {
   "cell_type": "markdown",
   "id": "f1fa9d22-7aff-46b5-9b06-815d898e26af",
   "metadata": {},
   "source": [
    "#### Exercise 1.3:\n",
    "Define a procedure that takes three numbers as arguments and returns the sum of the squares of the two larger numbers.\n",
    "\n",
    "#### Solution:\n",
    "```scheme\n",
    "(sum-squares (max a b) (max min(a b) c))\n",
    "```"
   ]
  },
  {
   "cell_type": "code",
   "execution_count": 14,
   "id": "f6273e14-ad81-49d9-9028-e73b71a6f5a7",
   "metadata": {},
   "outputs": [
    {
     "name": "stdout",
     "output_type": "stream",
     "text": [
      "max(1, 2) = 2\n",
      "max(2, 3) = 3\n",
      "\n",
      "min(1, 2) = 1\n",
      "min(2, 3) = 2\n",
      "\n",
      "square(1) = 1\n",
      "square(2) = 4\n",
      "square(3) = 9\n",
      "\n",
      "sum-squares(1, 2) = 5\n",
      "sum-squares(2, 3) = 13\n",
      "sum-squares(1, 3) = 10\n",
      "\n",
      "sum-squares-top-two(1, 2, 3) = 13\n",
      "sum-squares-top-two(2, 3, 1) = 13\n",
      "sum-squares-top-two(3, 1, 2) = 13\n",
      "sum-squares-top-two(0, 5, 5) = 50\n",
      "sum-squares-top-two(5, 4, 3) = 41\n",
      "\n"
     ]
    }
   ],
   "source": [
    "(require racket/base)\n",
    "(require racket/trace)\n",
    "\n",
    "(define (max x y) (if (> x y) x y))\n",
    "(define (min x y) (if (< x y) x y))\n",
    "\n",
    "(define (square x) (* x x))\n",
    "(define (sum-squares x y) (+ (square x) (square y)))\n",
    "(define (sum-squares-top-two x y z) (sum-squares (max x y) (max (min x y) z)))\n",
    "\n",
    "(define x1 1)\n",
    "(define x2 2)\n",
    "(define x3 3)\n",
    "\n",
    "(printf \"\")\n",
    "(printf \"max(~a, ~a) = ~a\\n\" x1 x2 (max x1 x2))\n",
    "(printf \"max(~a, ~a) = ~a\\n\" x2 x3 (max x2 x3))\n",
    "(printf \"\\n\")\n",
    "(printf \"min(~a, ~a) = ~a\\n\" x1 x2 (min x1 x2))\n",
    "(printf \"min(~a, ~a) = ~a\\n\" x2 x3 (min x2 x3))\n",
    "(printf \"\\n\")\n",
    "(printf \"square(~a) = ~a\\n\" x1 (square x1))\n",
    "(printf \"square(~a) = ~a\\n\" x2 (square x2))\n",
    "(printf \"square(~a) = ~a\\n\" x3 (square x3))\n",
    "(printf \"\\n\")\n",
    "(printf \"sum-squares(~a, ~a) = ~a\\n\" x1 x2 (sum-squares x1 x2))\n",
    "(printf \"sum-squares(~a, ~a) = ~a\\n\" x2 x3 (sum-squares x2 x3))\n",
    "(printf \"sum-squares(~a, ~a) = ~a\\n\" x1 x3 (sum-squares x1 x3))\n",
    "(printf \"\\n\")\n",
    "(printf \"sum-squares-top-two(~a, ~a, ~a) = ~a\\n\" 1 2 3 (sum-squares-top-two 1 2 3))\n",
    "(printf \"sum-squares-top-two(~a, ~a, ~a) = ~a\\n\" 2 3 1 (sum-squares-top-two 2 3 1))\n",
    "(printf \"sum-squares-top-two(~a, ~a, ~a) = ~a\\n\" 3 1 2 (sum-squares-top-two 3 1 2))\n",
    "(printf \"sum-squares-top-two(~a, ~a, ~a) = ~a\\n\" 0 5 5 (sum-squares-top-two 0 5 5))\n",
    "(printf \"sum-squares-top-two(~a, ~a, ~a) = ~a\\n\" 5 4 3 (sum-squares-top-two 5 4 3))\n",
    "(printf \"\\n\")"
   ]
  },
  {
   "cell_type": "markdown",
   "id": "bc748c5c-d4de-45be-acd9-4c5027162861",
   "metadata": {},
   "source": [
    "### Exercise 1.4:\n",
    "Observe that our model of evaluation allows for combinations whose operators are compound expressions. Use this observation to describe the behavior of the following procedure:\n",
    "\n",
    "```scheme\n",
    "(define (a-plus-abs-b a b)\n",
    "  ((if (> b 0) + -) a b))\n",
    "```\n",
    "\n",
    "### Answer:\n",
    "- If `b` is positive, then `a+b`, otherwise `a-b`"
   ]
  },
  {
   "cell_type": "code",
   "execution_count": 16,
   "id": "d5457a9e-6751-44b5-85b2-7ca0753b54ff",
   "metadata": {},
   "outputs": [
    {
     "name": "stdout",
     "output_type": "stream",
     "text": [
      "res=2\n",
      "res=3\n",
      "res=3\n",
      "res=4\n",
      "res=5\n"
     ]
    }
   ],
   "source": [
    "(define (a-plus-abs-b a b)\n",
    "  ((if (> b 0) + -) a b))\n",
    "(printf \"res=~a\\n\" (a-plus-abs-b 1 -1))\n",
    "(printf \"res=~a\\n\" (a-plus-abs-b 1 2))\n",
    "(printf \"res=~a\\n\" (a-plus-abs-b 1 -2))\n",
    "(printf \"res=~a\\n\" (a-plus-abs-b 1 -3))\n",
    "(printf \"res=~a\\n\" (a-plus-abs-b 1 4))"
   ]
  },
  {
   "cell_type": "markdown",
   "id": "48c33228-af3d-42ca-b571-e1aa58cbd05c",
   "metadata": {},
   "source": [
    "#### Exercise 1.5:\n",
    "Ben Bitdiddle has invented a test to determine whether the interpreter he is faced with is using applicative-order evaluation or normal-order evaluation. He defines the following two procedures:\n",
    "\n",
    "```scheme\n",
    "(define (p) (p))\n",
    "(define (test x y)\n",
    "  (if (= x 0) 0 y))\n",
    "```\n",
    "Then he evaluates the expression:\n",
    "```scheme\n",
    "(test 0 (p))\n",
    "```\n",
    "What behavior will Ben observe with an interpreter that uses applicative-order evaluation? What behavior will he observe with an interpreter that uses normal-order evaluation? Explain your answer.\n",
    "\n",
    "(Assume that the evaluation rule for the special form `if` is the same whether the interpreter is using normal or applicative order: The predicate expression is evaluated first, and the result determines whether to evaluate the consequent or the alternative expression.)\n"
   ]
  },
  {
   "cell_type": "code",
   "execution_count": 21,
   "id": "7ac1b0c9-f121-4100-82cb-5e3b408cea76",
   "metadata": {},
   "outputs": [
    {
     "data": {
      "text/html": [
       "<code>11</code>"
      ],
      "text/plain": [
       "11"
      ]
     },
     "execution_count": 21,
     "metadata": {},
     "output_type": "execute_result"
    }
   ],
   "source": [
    "(define (p) (p))\n",
    "(define (test x y) (if (= x 0) 0 y))\n",
    "(test 10 (+ 1 10))"
   ]
  },
  {
   "cell_type": "markdown",
   "id": "42c994d0-6af6-4df1-8f1b-c7274f831983",
   "metadata": {},
   "source": []
  }
 ],
 "metadata": {
  "kernelspec": {
   "display_name": "Racket",
   "language": "racket",
   "name": "racket"
  },
  "language_info": {
   "codemirror_mode": "scheme",
   "file_extension": ".rkt",
   "mimetype": "text/x-racket",
   "name": "Racket",
   "pygments_lexer": "racket",
   "version": "8.15"
  }
 },
 "nbformat": 4,
 "nbformat_minor": 5
}
