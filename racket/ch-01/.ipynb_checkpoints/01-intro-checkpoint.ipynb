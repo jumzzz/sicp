{
 "cells": [
  {
   "cell_type": "markdown",
   "id": "a66091da-a578-4c08-9c02-e2446d53a37b",
   "metadata": {},
   "source": [
    "### Some Noteable Quotes\n",
    "- Lisp description of processes are called *procedures*\n",
    "- These procedures themselves can be themselves represented and manipulated as Lisp data [1]"
   ]
  },
  {
   "cell_type": "code",
   "execution_count": null,
   "id": "d57b0b79-721a-4bf6-8679-f32cb458cc1f",
   "metadata": {},
   "outputs": [],
   "source": []
  }
 ],
 "metadata": {
  "kernelspec": {
   "display_name": "Racket",
   "language": "racket",
   "name": "racket"
  },
  "language_info": {
   "codemirror_mode": "scheme",
   "file_extension": ".rkt",
   "mimetype": "text/x-racket",
   "name": "Racket",
   "pygments_lexer": "racket",
   "version": "8.15"
  }
 },
 "nbformat": 4,
 "nbformat_minor": 5
}
