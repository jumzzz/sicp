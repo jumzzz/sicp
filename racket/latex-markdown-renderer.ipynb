{
 "cells": [
  {
   "cell_type": "markdown",
   "id": "96c1ba2e-ce91-48b5-adcd-83c286a40fa8",
   "metadata": {},
   "source": [
    "### Prompt"
   ]
  },
  {
   "cell_type": "markdown",
   "id": "71fb36d9-6db6-4f17-a591-a181c9517b39",
   "metadata": {},
   "source": [
    "```text\n",
    "Your task on this session is to render every screenshot that I'm sending you with combination of Markdown and LaTex format. This will be pasted on Jupyter Notebook (.ipynb). \n",
    "\n",
    "- If you see an Exercise Header, say **Exercise 1.29**, write it as #### Exercise 1.29:\n",
    "- For normal text use the appropriate Markdown format. Use italics/bold formats appropriately.\n",
    "- For equations that appears at character/word level equations use $<equation-character-word>$. \n",
    "- For a block of equations, use $$<equation-block>$$. \n",
    "- For code variables that appear at the word/character level, use `var_name`\n",
    "- For code blocks that appears, use ```<language-name> <code-blocks>```. For example:\n",
    "  ```python\n",
    "  def this_is_a_python_code(var):\n",
    "     print('i am a python code = ', var)```\n",
    "- Sometimes, the screenshot contains page breaks. Feel free to ignore that! \n",
    "\n",
    "Finally, to make sure this is copy-pastable, we would want to avoid what you've written to be rendered by your automatic renderer (from your chat ux). In this case simply enclose everything you've written with...\n",
    "\n",
    "```text\n",
    "..Everything you've written so far```\n",
    "\n",
    "If you understand please tell me you're ready!\n",
    "```"
   ]
  },
  {
   "cell_type": "markdown",
   "id": "b88ae468-fed8-42d6-8edf-1ad9d9c4a434",
   "metadata": {},
   "source": [
    "### Exercise 1.11\n",
    "\n",
    "A function $f$ is defined by the rule that:\n",
    "\n",
    "$$\n",
    "f(n) =\n",
    "\\begin{cases} \n",
    "n & \\text{if } n < 3, \\\\\n",
    "f(n-1) + 2f(n-2) + 3f(n-3) & \\text{if } n \\geq 3.\n",
    "\\end{cases}\n",
    "$$\n",
    "\n",
    "Write a procedure that computes $f$ by means of a recursive process. Write a procedure that computes $f$ by means of an iterative process.\n"
   ]
  },
  {
   "cell_type": "markdown",
   "id": "063e1378-7eac-4ccb-a1ca-67845f9e1bbe",
   "metadata": {},
   "source": [
    "Once we have sum, we can use it as a building block in formulating further concepts. For instance, the definite integral of a function $f$ between the limits $a$ and $b$ can be approximated numerically using the formula\n",
    "\n",
    "$$\n",
    "\\int_a^b f = \\left[ f\\left(a + \\frac{dx}{2}\\right) + f\\left(a + dx + \\frac{dx}{2}\\right) + f\\left(a + 2dx + \\frac{dx}{2}\\right) + \\dots \\right] dx\n",
    "$$\n",
    "\n",
    "for small values of $dx$. We can express this directly as a procedure:\n"
   ]
  },
  {
   "cell_type": "markdown",
   "id": "73a3f907-c0e8-4941-aa0c-cefb0a4842c0",
   "metadata": {},
   "source": [
    "Once we have `sum`, we can use it as a building block in formulating further concepts. For instance, the definite integral of a function $f$ between the limits $a$ and $b$ can be approximated numerically using the formula:\n",
    "\n",
    "$$\n",
    "\\int_a^b f = \\left[ f\\left(a + \\frac{dx}{2}\\right) + f\\left(a + dx + \\frac{dx}{2}\\right) + f\\left(a + 2dx + \\frac{dx}{2}\\right) + \\dots \\right] dx\n",
    "$$\n",
    "\n",
    "for small values of $dx$. We can express this directly as a procedure:\n",
    "\n",
    "```scheme\n",
    "(define (integral f a b dx)\n",
    "  (define (add-dx x)\n",
    "    (+ x dx))\n",
    "  (* (sum f (+ a (/ dx 2.0)) add-dx b)\n",
    "     dx))\n"
   ]
  },
  {
   "cell_type": "markdown",
   "id": "238c4249-dcfc-4442-956a-6405914adab6",
   "metadata": {},
   "source": [
    "#### Exercise 1.29 \n",
    "\n",
    "Simpson’s Rule is a more accurate method of numerical integration than the method illustrated above. Using Simpson’s Rule, the integral of a function $f$ between $a$ and $b$ is approximated as\n",
    "\n",
    "$$\n",
    "\\frac{h}{3} \\left( y_0 + 4y_1 + 2y_2 + 4y_3 + 2y_4 + \\cdots + 2y_{n-2} + 4y_{n-1} + y_n \\right),\n",
    "$$\n",
    "\n",
    "where $h = \\frac{(b - a)}{n}$, for some even integer $n$, and $y_k = f(a + kh)$. (Increasing $n$ increases the accuracy of the approximation.) Define a procedure that takes as arguments `f`, `a`, `b`, and `n` and returns the value of the integral, computed using Simpson’s Rule. Use your procedure to integrate `cube` between 0 and 1 (with `n = 100` and `n = 1000`), and compare the results to those of the `integral` procedure shown above.\n"
   ]
  },
  {
   "cell_type": "markdown",
   "id": "f8191a5d-cd7d-4d60-9e66-c63541b73b5f",
   "metadata": {},
   "source": [
    "#### Using `let` to create local variables\n",
    "\n",
    "Another use of `lambda` is in creating local variables. We often need local variables in our procedures other than those that have been bound as formal parameters. For example, suppose we wish to compute the function\n",
    "\n",
    "$$\n",
    "f(x, y) = x(1 + xy)^2 + y(1 - y) + (1 + xy)(1 - y),\n",
    "$$\n",
    "\n",
    "which we could also express as\n",
    "\n",
    "$$\n",
    "a = 1 + xy,\n",
    "$$\n",
    "$$\n",
    "b = 1 - y,\n",
    "$$\n",
    "$$\n",
    "f(x, y) = xa^2 + yb + ab.\n",
    "$$\n",
    "\n",
    "In writing a procedure to compute $f$, we would like to include as local variables not only $x$ and $y$ but also the names of intermediate quantities like $a$ and $b$. One way to accomplish this is to use an auxiliary procedure to bind the local variables:\n",
    "\n",
    "```scheme\n",
    "(define (f x y)\n",
    "  (define (f-helper a b)\n",
    "    (+ (* x (square a))\n",
    "       (* y b)\n",
    "       (* a b)))\n",
    "  (f-helper (+ 1 (* x y))\n",
    "            (- 1 y)))\n"
   ]
  },
  {
   "cell_type": "markdown",
   "id": "b0f777dc-fe1d-4d7d-bab6-6529cbef38b5",
   "metadata": {},
   "source": [
    "#### Exercise 1.38:\n",
    "\n",
    "In 1737, the Swiss mathematician Leonhard Euler published a memoir *De Fractionibus Continuis*, which included a continued fraction expansion for $e - 2$, where $e$ is the base of the natural logarithms. In this fraction, the $N_i$ are all 1, and the $D_i$ are successively $1, 2, 1, 1, 4, 1, 1, 6, 1, 1, 8, \\dots$. Write a program that uses your `cont-frac` procedure from **Exercise 1.37** to approximate $e$, based on Euler’s expansion.\n",
    "\n",
    "#### Exercise 1.39:\n",
    "\n",
    "A continued fraction representation of the tangent function was published in 1770 by the German mathematician J.H. Lambert:\n",
    "\n",
    "$$\n",
    "\\tan x = \\cfrac{x}{1 - \\cfrac{x^2}{3 - \\cfrac{x^2}{5 - \\dots}}}\n",
    "$$\n",
    "\n",
    "where $x$ is in radians. Define a procedure `(tan-cf x k)` that computes an approximation to the tangent function based on Lambert’s formula. $k$ specifies the number of terms to compute, as in **Exercise 1.37**.\n"
   ]
  },
  {
   "cell_type": "markdown",
   "id": "53169471-ed24-4c2f-9aa8-83389eff1f32",
   "metadata": {},
   "source": [
    "#### Exercise 2.37:\n",
    "Suppose we represent vectors $v = (v_i)$ as sequences of numbers, and matrices $m = (m_{ij})$ as sequences of vectors (the rows of the matrix). For example, the matrix\n",
    "\n",
    "$$\n",
    "\\begin{pmatrix}\n",
    "1 & 2 & 3 & 4 \\\\\n",
    "4 & 5 & 6 & 6 \\\\\n",
    "6 & 7 & 8 & 9\n",
    "\\end{pmatrix}\n",
    "$$\n",
    "\n",
    "is represented as the sequence `((1 2 3 4) (4 5 6 6) (6 7 8 9))`. With this representation, we can use sequence operations to concisely express the basic matrix and vector operations. These operations (which are described in any book on matrix algebra) are the following:\n",
    "\n",
    "- `(dot-product v w)` returns the sum $\\Sigma_i v_i w_i$;\n",
    "- `(matrix-*vector m v)` returns the vector $t$, where $t_i = \\Sigma_j m_{ij} v_j$;\n",
    "- `(matrix-*matrix m n)` returns the matrix $p$, where $p_{ij} = \\Sigma_k m_{ik} n_{kj}$;\n",
    "- `(transpose m)` returns the matrix $n$, where $n_{ij} = m_{ji}$.\n",
    "\n",
    "We can define the dot product as:\n",
    "```scheme\n",
    "(define (dot-product v w)\n",
    "  (accumulate + 0 (map * v w)))\n",
    "```\n",
    "\n",
    "Fill in the missing expressions in the following procedures for computing the other matrix operations. (The procedure accumulate-n is defined in Exercise 2.36.)\n",
    "\n",
    "```scheme\n",
    "(define (matrix-*vector m v)\n",
    "  (map <??> m))\n",
    "```\n"
   ]
  },
  {
   "cell_type": "markdown",
   "id": "b4002f87-2e83-43c2-83e8-43fbf17cdce3",
   "metadata": {},
   "source": [
    "#### Exercise 2.46:\n",
    "A two-dimensional vector $v$ running from the origin to a point can be represented as a pair consisting of an $x$-coordinate and a $y$-coordinate. Implement a data abstraction for vectors by giving a constructor `make-vect` and corresponding selectors `xcor-vect` and `ycor-vect`. In terms of your selectors and constructor, implement procedures `add-vect`, `sub-vect`, and `scale-vect` that perform the operations vector addition, vector subtraction, and multiplying a vector by a scalar:\n",
    "\n",
    "$$(x_1, y_1) + (x_2, y_2) = (x_1 + x_2, y_1 + y_2),$$  \n",
    "$$(x_1, y_1) - (x_2, y_2) = (x_1 - x_2, y_1 - y_2),$$  \n",
    "$$s \\cdot (x, y) = (sx, sy).$$\n",
    "\n",
    "#### Exercise 2.47:\n",
    "Here are two possible constructors for frames:\n",
    "\n",
    "```scheme\n",
    "(define (make-frame origin edge1 edge2)\n",
    "  (list origin edge1 edge2))\n",
    "\n",
    "(define (make-frame origin edge1 edge2)\n",
    "  (cons origin (cons edge1 edge2)))\n",
    "\n",
    "For each constructor supply the appropriate selectors to produce an implementation for frames.\n"
   ]
  },
  {
   "cell_type": "markdown",
   "id": "1261cddb-f4e8-415d-8fb1-30163bead954",
   "metadata": {},
   "source": [
    "#### Exercise 1.8:\n",
    "Newton's method for cube roots is based on the fact that if $y$ is an approximation to the cube root of $x$, then a better approximation is given by the value\n",
    "\n",
    "$$\\frac{x/y^2 + 2y}{3}.$$\n",
    "\n",
    "Use this formula to implement a cube-root procedure analogous to the square-root procedure. (In Section 1.3.4 we will see how to implement Newton's method in general as an abstraction of these square-root and cube-root procedures.)"
   ]
  },
  {
   "cell_type": "markdown",
   "id": "c6b757da-e52f-4378-9068-be5228d6f5ec",
   "metadata": {},
   "source": [
    "## 1.2.1 Linear Recursion and Iteration\n",
    "\n",
    "We begin by considering the factorial function, defined by\n",
    "\n",
    "$$n! = n \\cdot (n-1) \\cdot (n-2) \\cdot \\cdots 3 \\cdot 2 \\cdot 1.$$\n",
    "\n",
    "There are many ways to compute factorials. One way is to make use of the observation that $n!$ is equal to $n$ times $(n-1)!$ for any positive integer $n$:\n",
    "\n",
    "$$n! = n \\cdot [(n-1) \\cdot (n-2) \\cdot \\cdots 3 \\cdot 2 \\cdot 1] = n \\cdot (n-1)!.$$\n",
    "\n",
    "Thus, we can compute $n!$ by computing $(n-1)!$ and multiplying the result by $n$. If we add the stipulation that $1!$ is equal to 1, this observation translates directly into a procedure:"
   ]
  },
  {
   "cell_type": "code",
   "execution_count": null,
   "id": "49d85769-3fc0-4389-afff-c65ddff9072e",
   "metadata": {},
   "outputs": [],
   "source": []
  }
 ],
 "metadata": {
  "kernelspec": {
   "display_name": "Racket",
   "language": "racket",
   "name": "racket"
  },
  "language_info": {
   "codemirror_mode": "scheme",
   "file_extension": ".rkt",
   "mimetype": "text/x-racket",
   "name": "Racket",
   "pygments_lexer": "racket",
   "version": "8.15"
  }
 },
 "nbformat": 4,
 "nbformat_minor": 5
}
