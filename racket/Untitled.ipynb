{
 "cells": [
  {
   "cell_type": "code",
   "execution_count": 2,
   "id": "8accaea7-e117-486a-adc2-07819948c690",
   "metadata": {},
   "outputs": [
    {
     "data": {
      "text/html": [
       "<code>6</code>"
      ],
      "text/plain": [
       "6"
      ]
     },
     "execution_count": 2,
     "metadata": {},
     "output_type": "execute_result"
    }
   ],
   "source": [
    "(+ 3 3)"
   ]
  },
  {
   "cell_type": "code",
   "execution_count": 4,
   "id": "2e0e79f0-d1b2-4620-a5e2-647301ee43b2",
   "metadata": {},
   "outputs": [],
   "source": [
    "(require racket/base)"
   ]
  },
  {
   "cell_type": "code",
   "execution_count": 5,
   "id": "fa01f256-bfda-4670-962d-11c9012ecb12",
   "metadata": {},
   "outputs": [
    {
     "data": {
      "text/html": [
       "<code>55</code>"
      ],
      "text/plain": [
       "55"
      ]
     },
     "execution_count": 5,
     "metadata": {},
     "output_type": "execute_result"
    }
   ],
   "source": [
    "(require racket/base)\n",
    "\n",
    "(define (fib n)\n",
    "  (cond\n",
    "    [(= n 0) 0]\n",
    "    [(= n 1) 1]\n",
    "    [else (+ (fib (- n 1)) (fib (- n 2)))]))\n",
    "\n",
    "(fib 10) ; Try this to calculate the 10th Fibonacci number\n"
   ]
  },
  {
   "cell_type": "code",
   "execution_count": 6,
   "id": "41c06cc5-30ff-4c8c-a720-5f5317d24485",
   "metadata": {},
   "outputs": [
    {
     "data": {
      "text/html": [
       "<code>120</code>"
      ],
      "text/plain": [
       "120"
      ]
     },
     "execution_count": 6,
     "metadata": {},
     "output_type": "execute_result"
    }
   ],
   "source": [
    "(require racket/base)\n",
    "\n",
    "(define (factorial n)\n",
    "  (if (= n 0)\n",
    "      1\n",
    "      (* n (factorial (- n 1)))))\n",
    "\n",
    "(factorial 5) ; Should return 120\n"
   ]
  },
  {
   "cell_type": "code",
   "execution_count": 7,
   "id": "dfc84f99-bbb7-4976-ae49-2c9e9cbce958",
   "metadata": {},
   "outputs": [
    {
     "data": {
      "text/html": [
       "<code>15</code>"
      ],
      "text/plain": [
       "15"
      ]
     },
     "execution_count": 7,
     "metadata": {},
     "output_type": "execute_result"
    }
   ],
   "source": [
    "(require racket/base)\n",
    "\n",
    "(define (sum lst)\n",
    "  (if (null? lst)\n",
    "      0\n",
    "      (+ (car lst) (sum (cdr lst)))))\n",
    "\n",
    "(sum '(1 2 3 4 5)) ; Should return 15\n"
   ]
  },
  {
   "cell_type": "code",
   "execution_count": 8,
   "id": "6ce7b0b9-7fa1-440b-a1b6-2b8cb218486a",
   "metadata": {},
   "outputs": [
    {
     "data": {
      "text/html": [
       "<code>'(4 5)</code>"
      ],
      "text/plain": [
       "'(4 5)"
      ]
     },
     "execution_count": 8,
     "metadata": {},
     "output_type": "execute_result"
    }
   ],
   "source": [
    "(define (square x) (* x x))\n",
    "(define nums '(1 2 3 4 5))\n",
    "\n",
    "(map square nums) ; Returns '(1 4 9 16 25)\n",
    "\n",
    "(filter (lambda (x) (> x 3)) nums) ; Returns '(4 5)\n"
   ]
  },
  {
   "cell_type": "code",
   "execution_count": 9,
   "id": "d14b38ba-4ac0-45cf-8da7-3ac4db49d8dc",
   "metadata": {},
   "outputs": [
    {
     "name": "stdout",
     "output_type": "stream",
     "text": [
      ">(fib 5)\n",
      "> (fib 4)\n",
      "> >(fib 3)\n",
      "> > (fib 2)\n",
      "> > >(fib 1)\n",
      "< < <1\n",
      "> > >(fib 0)\n",
      "< < <0\n",
      "< < 1\n",
      "> > (fib 1)\n",
      "< < 1\n",
      "< <2\n",
      "> >(fib 2)\n",
      "> > (fib 1)\n",
      "< < 1\n",
      "> > (fib 0)\n",
      "< < 0\n",
      "< <1\n",
      "< 3\n",
      "> (fib 3)\n",
      "> >(fib 2)\n",
      "> > (fib 1)\n",
      "< < 1\n",
      "> > (fib 0)\n",
      "< < 0\n",
      "< <1\n",
      "> >(fib 1)\n",
      "< <1\n",
      "< 2\n",
      "<5\n"
     ]
    },
    {
     "data": {
      "text/html": [
       "<code>5</code>"
      ],
      "text/plain": [
       "5"
      ]
     },
     "execution_count": 9,
     "metadata": {},
     "output_type": "execute_result"
    }
   ],
   "source": [
    "(require racket/base)\n",
    "(require racket/trace)\n",
    "\n",
    "(define (fib n)\n",
    "  (cond\n",
    "    [(= n 0) 0]\n",
    "    [(= n 1) 1]\n",
    "    [else (+ (fib (- n 1)) (fib (- n 2)))]))\n",
    "\n",
    "(trace fib)\n",
    "\n",
    "(fib 5) ; This will display the calls and returns for `fib`\n"
   ]
  },
  {
   "cell_type": "code",
   "execution_count": null,
   "id": "f42a1d48-debd-4daf-b720-73f63e9c7c6a",
   "metadata": {},
   "outputs": [],
   "source": []
  }
 ],
 "metadata": {
  "kernelspec": {
   "display_name": "Racket",
   "language": "racket",
   "name": "racket"
  },
  "language_info": {
   "codemirror_mode": "scheme",
   "file_extension": ".rkt",
   "mimetype": "text/x-racket",
   "name": "Racket",
   "pygments_lexer": "racket",
   "version": "8.15"
  }
 },
 "nbformat": 4,
 "nbformat_minor": 5
}
